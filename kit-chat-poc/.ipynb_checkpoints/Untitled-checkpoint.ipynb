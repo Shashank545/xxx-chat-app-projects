{
 "cells": [
  {
   "cell_type": "code",
   "execution_count": 20,
   "id": "c13ccdb4-37eb-47b5-a5f9-29ae812a1b30",
   "metadata": {},
   "outputs": [],
   "source": [
    "import json\n",
    "\n",
    "with open(\"interim/rcsplit_chunkstore_html_en_20230922_165345.json\", \"r\") as foo:\n",
    "    html_en_data = json.load(foo)\n",
    "\n",
    "with open(\"interim/rcsplit_chunkstore_html_jp_20230922_165345.json\", \"r\") as foo:\n",
    "    html_jp_data = json.load(foo)"
   ]
  },
  {
   "cell_type": "code",
   "execution_count": 21,
   "id": "1a4bd569-cbe7-4bbf-bcc6-c05eb2d1bff1",
   "metadata": {},
   "outputs": [
    {
     "data": {
      "text/plain": [
       "\"Skip to main content\\n\\nSharePoint\\n\\nSahoo, Shashank (KIT)\\n\\nSS\\n\\nSign in\\n\\nGlobal navigation\\n\\nMy sites\\n\\nMy news\\n\\nMy files\\n\\nMy lists\\n\\nCreate\\n\\nJP HomeJP Home\\n\\nMy KPMGMy KPMG\\n\\nLatestLatest\\ue70dNewsEventsAlerts\\n\\nClientsClients\\ue70dAudit\\n\\nDirectoryDirectory\\ue70d\\uecedTools\\ueca6Organization\\uec06Office Locations\\n\\nAbout KPMGAbout KPMG\\n\\nGo to J.WebGo to J.Web\\n\\n\\ue774\\ued15\\n\\nJP Intranet\\n\\nHome\\n\\nOur principles\\ue972\\n\\nAbout KIT\\ue972\\n\\nCommunication\\ue972\\n\\nInternal Services\\ue972\\n\\nRules, Standards and Governance\\ue972\\n\\nEmergency Response\\ue972\\n\\nMore\\n\\n\\uf112Immersive Reader\\n\\n\\ue72dShare\\ue70d\\n\\nHide header and navigation\\n\\nBusiness Service\\n\\nPregnancy and Childbirth\\n\\nJP-FM KIT-HR-MGMT\\n\\nFM\\n\\n<For only employees>\\n\\nThis page is about procedures, leaves, allowances, relevant to\\xa0Pregnancy and Childbirth\\n\\n1. Report to HR as soon as you know your or your spouse’s pregnancy or childbirth section expanded\\n\\n1. Report to HR as soon as you know your or your spouse’s pregnancy or childbirth\\n\\nPlease report to HR Management via the Forms below, as soon as you know \\xa0your or your spouse’s pregnancy or childbirth.\\n\\nIn order to encourage employees to take childcare leave, KIT provides information on childcare leave to all employees who are aware of pregnancy or childbirth of the employees or their spouse, and confirm their intention to take childcare leave.\\n\\n2. Leaves and Flexible work program section expanded\\n\\n2. Leaves and Flexible work program\\n\\nSpecial Leave for maternity guidances and checkups\\n\\nPlease refer to Special Leave for maternity guidances and checkups\\n\\nMaternity leave\\n\\nPlease refer to Maternity leave.\\n\\nSpouse’s child birth leave\\n\\nPlease refer to Spouse’s child birth leave\\n\\nChildcare leave\\n\\nPlease refer to Childcare leave\\n\\nThe sick / injured childcare leave\\n\\nPlease refer to sick/ injured childcare leave\\n\\nFlexible work program\\n\\nFlexible work program\\n\\n3. Allowance & Benefit section expanded\\n\\n3. Allowance & Benefit\\n\\nChildbirth and Childcare Lump-Sum Grant + additional benefits\\n\\nProvided by\\n\\nAZSA health insurance society\\n\\nAmount\\n\\nhttp://www.azsa-support.jp/kenpo/eng/member/benefit/baby_a.html\\n\\nRegulation / Condition\\n\\nInsured person and dependent family member of \\xa0 AZSA health insurance society\\n\\nHow to apply\\n\\nhttp://www.azsa-support.jp/kenpo/eng/member/application/baby_b.html\\n\\nMaternity Allowance\\n\\nProvided by\\n\\nAZSA health insurance society\\n\\nAmount\\n\\nhttp://www.azsa-support.jp/kenpo/eng/member/benefit/maternity_a.html#cat09Benefit01\\n\\nRegulation / Condition\\n\\nFemale insured person who takes maternity leave\\n\\nHow to apply\\n\\nSubmit an original form to HR.\\xa0 How to submit original\\xa0document\\n\\nCongratulatory cash gift for Childbirth（KIT）\\n\\nProvided by\\n\\nKIT\\n\\nAmount\\n\\nPartners: 50,000 yen\\n\\xa0Regular employees, Contract employees: \\xa020,000 yen\\n\\nRegulation / Condition\\n\\nKIT's Partner, Regular employee, Contract employee \\xa0(If both parents are eligible, only one of them can receive the cash gift)\\n\\nHow to apply\\n\\nPlease refer to 4. Procedure of childbirth in this page.\\n\\nCongratulatory cash gift for Childbirth（CPA Corporate pension fund）\\n\\nPlease refer to CPA Corporate Pension Fund Childbirth cash gift\\n\\nChildcare leave benefit\\n\\nProvided by\\n\\nEmployment insurance (Hellowork)\\n\\nAmount\\n\\nFor the first 6months: approx. 67% of average salary in the 6 months before the leave (Max 305,319 yen/month ,aprox.10 ,177yen/day)\\nAfter 6 months: approx. 50% of average salary in the 6 months before the leave (Max 227,850 yen/month, 7,595 yen/day)\\n\\nRegulation / Condition\\n\\nNeed to have 12 month or longer insurance period of employment insurance for 2 years before the start date of the childcare leave.\\nThis benefit is paid \\xa02 months basis basically and it will take 3-4 months until the first payment.\\xa0\\n\\n*For postnatal childcare leave, it will be paid \\xa04-6 month after the end date of the postnatal childcare leave.\\n\\nHow to apply\\n\\nFollow KIT HR's instruction when applying for childcare leave\\n\\n4. Procedure of childbirth section expanded\\n\\n4. Procedure of childbirth\\n\\n1. Childbirth application on PIMS (Mandatory)\\n\\nOverview\\n\\nRegister the child's info into PIMS\\n\\nOccurrence Time/ Frequency\\n\\nAs soon as the child is born\\n\\nProcedure Detail\""
      ]
     },
     "execution_count": 21,
     "metadata": {},
     "output_type": "execute_result"
    }
   ],
   "source": [
    "html_en_data[0]['content']"
   ]
  },
  {
   "cell_type": "code",
   "execution_count": 22,
   "id": "9227a3de-9dc1-4fa1-a107-5711ee4fbedb",
   "metadata": {},
   "outputs": [
    {
     "data": {
      "text/plain": [
       "\"Skip to main content\\n\\nSharePoint\\n\\n\\n\\nSS\\n\\nSign in\\n\\nGlobal navigation\\n\\nMy sites\\n\\nMy news\\n\\nMy files\\n\\nMy lists\\n\\nCreate\\n\\nJP HomeJP Home\\n\\nMy KPMGMy KPMG\\n\\nLatestLatest\\ue70dNewsEventsAlerts\\n\\nClientsClients\\ue70dAudit\\n\\nDirectoryDirectory\\ue70d\\uecedTools\\ueca6Organization\\uec06Office Locations\\n\\nAbout KPMGAbout KPMG\\n\\nGo to J.WebGo to J.Web\\n\\n\\ue774\\ued15\\n\\nJP Intranet\\n\\nHome\\n\\nOur principles\\ue972\\n\\nAbout KIT\\ue972\\n\\nCommunication\\ue972\\n\\nInternal Services\\ue972\\n\\nRules, Standards and Governance\\ue972\\n\\nEmergency Response\\ue972\\n\\nMore\\n\\n\\uf112Immersive Reader\\n\\n\\ue72dShare\\ue70d\\n\\nHide header and navigation\\n\\nBusiness Service\\n\\nPregnancy and Childbirth\\n\\nJP-FM KIT-HR-MGMT\\n\\nFM\\n\\n<For only employees>\\n\\nThis page is about procedures, leaves, allowances, relevant to\\xa0Pregnancy and Childbirth\\n\\n1. Report to HR as soon as you know your or your spouse’s pregnancy or childbirth section expanded\\n\\n1. Report to HR as soon as you know your or your spouse’s pregnancy or childbirth\\n\\nPlease report to HR Management via the Forms below, as soon as you know \\xa0your or your spouse’s pregnancy or childbirth.\\n\\nIn order to encourage employees to take childcare leave, KIT provides information on childcare leave to all employees who are aware of pregnancy or childbirth of the employees or their spouse, and confirm their intention to take childcare leave.\\n\\n2. Leaves and Flexible work program section expanded\\n\\n2. Leaves and Flexible work program\\n\\nSpecial Leave for maternity guidances and checkups\\n\\nPlease refer to Special Leave for maternity guidances and checkups\\n\\nMaternity leave\\n\\nPlease refer to Maternity leave.\\n\\nSpouse’s child birth leave\\n\\nPlease refer to Spouse’s child birth leave\\n\\nChildcare leave\\n\\nPlease refer to Childcare leave\\n\\nThe sick / injured childcare leave\\n\\nPlease refer to sick/ injured childcare leave\\n\\nFlexible work program\\n\\nFlexible work program\\n\\n3. Allowance & Benefit section expanded\\n\\n3. Allowance & Benefit\\n\\nChildbirth and Childcare Lump-Sum Grant + additional benefits\\n\\nProvided by\\n\\nAZSA health insurance society\\n\\nAmount\\n\\nhttp://www.azsa-support.jp/kenpo/eng/member/benefit/baby_a.html\\n\\nRegulation / Condition\\n\\nInsured person and dependent family member of \\xa0 AZSA health insurance society\\n\\nHow to apply\\n\\nhttp://www.azsa-support.jp/kenpo/eng/member/application/baby_b.html\\n\\nMaternity Allowance\\n\\nProvided by\\n\\nAZSA health insurance society\\n\\nAmount\\n\\nhttp://www.azsa-support.jp/kenpo/eng/member/benefit/maternity_a.html#cat09Benefit01\\n\\nRegulation / Condition\\n\\nFemale insured person who takes maternity leave\\n\\nHow to apply\\n\\nSubmit an original form to HR.\\xa0 How to submit original\\xa0document\\n\\nCongratulatory cash gift for Childbirth（KIT）\\n\\nProvided by\\n\\nKIT\\n\\nAmount\\n\\nPartners: 50,000 yen\\n\\xa0Regular employees, Contract employees: \\xa020,000 yen\\n\\nRegulation / Condition\\n\\nKIT's Partner, Regular employee, Contract employee \\xa0(If both parents are eligible, only one of them can receive the cash gift)\\n\\nHow to apply\\n\\nPlease refer to 4. Procedure of childbirth in this page.\\n\\nCongratulatory cash gift for Childbirth（CPA Corporate pension fund）\\n\\nPlease refer to CPA Corporate Pension Fund Childbirth cash gift\\n\\nChildcare leave benefit\\n\\nProvided by\\n\\nEmployment insurance (Hellowork)\\n\\nAmount\\n\\nFor the first 6months: approx. 67% of average salary in the 6 months before the leave (Max 305,319 yen/month ,aprox.10 ,177yen/day)\\nAfter 6 months: approx. 50% of average salary in the 6 months before the leave (Max 227,850 yen/month, 7,595 yen/day)\\n\\nRegulation / Condition\\n\\nNeed to have 12 month or longer insurance period of employment insurance for 2 years before the start date of the childcare leave.\\nThis benefit is paid \\xa02 months basis basically and it will take 3-4 months until the first payment.\\xa0\\n\\n*For postnatal childcare leave, it will be paid \\xa04-6 month after the end date of the postnatal childcare leave.\\n\\nHow to apply\\n\\nFollow KIT HR's instruction when applying for childcare leave\\n\\n4. Procedure of childbirth section expanded\\n\\n4. Procedure of childbirth\\n\\n1. Childbirth application on PIMS (Mandatory)\\n\\nOverview\\n\\nRegister the child's info into PIMS\\n\\nOccurrence Time/ Frequency\\n\\nAs soon as the child is born\\n\\nProcedure Detail\""
      ]
     },
     "execution_count": 22,
     "metadata": {},
     "output_type": "execute_result"
    }
   ],
   "source": [
    "html_en_data[0]['content'].replace('Sahoo, Shashank (KIT)', '')"
   ]
  },
  {
   "cell_type": "code",
   "execution_count": 7,
   "id": "cade4ab2-d2bd-4a79-822d-c14c701148f4",
   "metadata": {},
   "outputs": [
    {
     "name": "stdout",
     "output_type": "stream",
     "text": [
      "['Skip to', 'main content', 'Sign in', 'Global navigation', 'My sites', 'My news', 'My files', 'My lists', 'JP HomeJP', 'My KPMGMy', 'Office Locations', 'About KPMGAbout', 'Go to', 'WebGo to', 'JP Intranet', 'Our principles', 'About KIT', 'Internal Services', 'Standards and', 'Emergency Response', 'Immersive Reader', 'Hide header', 'and navigation', 'Business Service', 'Pregnancy and', 'FM KIT', 'For only', 'This page', 'is about', 'relevant to', 'Pregnancy and', 'Report to', 'HR as', 'soon as', 'you know', 'your or', 'your spouse', 'pregnancy or', 'childbirth section', 'Report to', 'HR as', 'soon as', 'you know', 'your or', 'your spouse', 'pregnancy or', 'Please report', 'to HR', 'Management via', 'the Forms', 'as soon', 'as you', 'your or', 'your spouse', 'pregnancy or', 'In order', 'to encourage', 'employees to', 'take childcare', 'KIT provides', 'information on', 'childcare leave', 'to all', 'employees who', 'are aware', 'of pregnancy', 'or childbirth', 'of the', 'employees or', 'their spouse', 'and confirm', 'their intention', 'to take', 'childcare leave', 'Leaves and', 'Flexible work', 'program section', 'Leaves and', 'Flexible work', 'Special Leave', 'for maternity', 'guidances and', 'Please refer', 'to Special', 'Leave for', 'maternity guidances', 'and checkups', 'Maternity leave', 'Please refer', 'to Maternity', 'child birth', 'Please refer', 'to Spouse', 'child birth', 'Childcare leave', 'Please refer', 'to Childcare', 'The sick', 'injured childcare', 'Please refer', 'to sick', 'injured childcare', 'Flexible work', 'Flexible work', 'Benefit section', 'Childbirth and', 'Childcare Lump', 'Sum Grant', 'additional benefits', 'Provided by', 'AZSA health', 'insurance society', 'Insured person', 'and dependent', 'family member', 'AZSA health', 'insurance society', 'How to', 'Maternity Allowance', 'Provided by', 'AZSA health', 'insurance society', 'Female insured', 'person who', 'takes maternity', 'How to', 'Submit an', 'original form', 'to HR', 'How to', 'submit original', 'Congratulatory cash', 'gift for', 'Provided by', 'Regular employees', 'Contract employees', 'Regular employee', 'Contract employee', 'If both', 'parents are', 'only one', 'of them', 'can receive', 'the cash', 'How to', 'Please refer', 'Procedure of', 'childbirth in', 'this page', 'Congratulatory cash', 'gift for', 'CPA Corporate', 'pension fund', 'Please refer', 'to CPA', 'Corporate Pension', 'Fund Childbirth', 'cash gift', 'Childcare leave', 'Provided by', 'Employment insurance', 'For the', 'of average', 'salary in', 'months before', 'the leave', 'of average', 'salary in', 'months before', 'the leave', 'Need to', 'month or', 'longer insurance', 'period of', 'employment insurance', 'years before', 'the start', 'date of', 'the childcare', 'This benefit', 'is paid', 'months basis', 'basically and', 'it will', 'months until', 'the first', 'For postnatal', 'childcare leave', 'it will', 'be paid', 'month after', 'the end', 'date of', 'the postnatal', 'childcare leave', 'How to', 'Follow KIT', 'instruction when', 'applying for', 'childcare leave', 'Procedure of', 'childbirth section', 'Procedure of', 'Childbirth application', 'on PIMS', 'Register the', 'info into', 'Occurrence Time', 'As soon', 'as the', 'child is', 'Procedure Detail']\n"
     ]
    }
   ],
   "source": [
    "import re\n",
    "\n",
    "nameRegex = re.compile('[A-Za-z]{2,25} [A-Za-z]{2,25}')\n",
    "\n",
    "# nameRegex = re.compile(r\"^[a-zA-Z]+[',. -][a-zA-Z ]?[a-zA-Z]*$\", re.MULTILINE)\n",
    "\n",
    "print(nameRegex.findall(data[0]['content']))"
   ]
  },
  {
   "cell_type": "code",
   "execution_count": 23,
   "id": "573b4776-59be-41cf-8a2c-6d89ecd025a0",
   "metadata": {},
   "outputs": [
    {
     "data": {
      "text/plain": [
       "dict_keys(['id', 'num_tokens', 'page_num', 'source_path', 'title', 'content', 'modified_from_source', 'parent_id', 'lang'])"
      ]
     },
     "execution_count": 23,
     "metadata": {},
     "output_type": "execute_result"
    }
   ],
   "source": [
    "html_en_data[0].keys()"
   ]
  },
  {
   "cell_type": "code",
   "execution_count": 11,
   "id": "9b955eb7-6305-4b15-aaad-618ad68ca5f6",
   "metadata": {},
   "outputs": [
    {
     "data": {
      "text/plain": [
       "{'id': '20230922165345079249',\n",
       " 'num_tokens': 995,\n",
       " 'page_num': 1,\n",
       " 'source_path': 'input/htmls_en/Pregnancy and Childbirth en.html',\n",
       " 'title': 'Pregnancy and Childbirth en',\n",
       " 'content': \"Skip to main content\\n\\nSharePoint\\n\\nSahoo, Shashank (KIT)\\n\\nSS\\n\\nSign in\\n\\nGlobal navigation\\n\\nMy sites\\n\\nMy news\\n\\nMy files\\n\\nMy lists\\n\\nCreate\\n\\nJP HomeJP Home\\n\\nMy KPMGMy KPMG\\n\\nLatestLatest\\ue70dNewsEventsAlerts\\n\\nClientsClients\\ue70dAudit\\n\\nDirectoryDirectory\\ue70d\\uecedTools\\ueca6Organization\\uec06Office Locations\\n\\nAbout KPMGAbout KPMG\\n\\nGo to J.WebGo to J.Web\\n\\n\\ue774\\ued15\\n\\nJP Intranet\\n\\nHome\\n\\nOur principles\\ue972\\n\\nAbout KIT\\ue972\\n\\nCommunication\\ue972\\n\\nInternal Services\\ue972\\n\\nRules, Standards and Governance\\ue972\\n\\nEmergency Response\\ue972\\n\\nMore\\n\\n\\uf112Immersive Reader\\n\\n\\ue72dShare\\ue70d\\n\\nHide header and navigation\\n\\nBusiness Service\\n\\nPregnancy and Childbirth\\n\\nJP-FM KIT-HR-MGMT\\n\\nFM\\n\\n<For only employees>\\n\\nThis page is about procedures, leaves, allowances, relevant to\\xa0Pregnancy and Childbirth\\n\\n1. Report to HR as soon as you know your or your spouse’s pregnancy or childbirth section expanded\\n\\n1. Report to HR as soon as you know your or your spouse’s pregnancy or childbirth\\n\\nPlease report to HR Management via the Forms below, as soon as you know \\xa0your or your spouse’s pregnancy or childbirth.\\n\\nIn order to encourage employees to take childcare leave, KIT provides information on childcare leave to all employees who are aware of pregnancy or childbirth of the employees or their spouse, and confirm their intention to take childcare leave.\\n\\n2. Leaves and Flexible work program section expanded\\n\\n2. Leaves and Flexible work program\\n\\nSpecial Leave for maternity guidances and checkups\\n\\nPlease refer to Special Leave for maternity guidances and checkups\\n\\nMaternity leave\\n\\nPlease refer to Maternity leave.\\n\\nSpouse’s child birth leave\\n\\nPlease refer to Spouse’s child birth leave\\n\\nChildcare leave\\n\\nPlease refer to Childcare leave\\n\\nThe sick / injured childcare leave\\n\\nPlease refer to sick/ injured childcare leave\\n\\nFlexible work program\\n\\nFlexible work program\\n\\n3. Allowance & Benefit section expanded\\n\\n3. Allowance & Benefit\\n\\nChildbirth and Childcare Lump-Sum Grant + additional benefits\\n\\nProvided by\\n\\nAZSA health insurance society\\n\\nAmount\\n\\nhttp://www.azsa-support.jp/kenpo/eng/member/benefit/baby_a.html\\n\\nRegulation / Condition\\n\\nInsured person and dependent family member of \\xa0 AZSA health insurance society\\n\\nHow to apply\\n\\nhttp://www.azsa-support.jp/kenpo/eng/member/application/baby_b.html\\n\\nMaternity Allowance\\n\\nProvided by\\n\\nAZSA health insurance society\\n\\nAmount\\n\\nhttp://www.azsa-support.jp/kenpo/eng/member/benefit/maternity_a.html#cat09Benefit01\\n\\nRegulation / Condition\\n\\nFemale insured person who takes maternity leave\\n\\nHow to apply\\n\\nSubmit an original form to HR.\\xa0 How to submit original\\xa0document\\n\\nCongratulatory cash gift for Childbirth（KIT）\\n\\nProvided by\\n\\nKIT\\n\\nAmount\\n\\nPartners: 50,000 yen\\n\\xa0Regular employees, Contract employees: \\xa020,000 yen\\n\\nRegulation / Condition\\n\\nKIT's Partner, Regular employee, Contract employee \\xa0(If both parents are eligible, only one of them can receive the cash gift)\\n\\nHow to apply\\n\\nPlease refer to 4. Procedure of childbirth in this page.\\n\\nCongratulatory cash gift for Childbirth（CPA Corporate pension fund）\\n\\nPlease refer to CPA Corporate Pension Fund Childbirth cash gift\\n\\nChildcare leave benefit\\n\\nProvided by\\n\\nEmployment insurance (Hellowork)\\n\\nAmount\\n\\nFor the first 6months: approx. 67% of average salary in the 6 months before the leave (Max 305,319 yen/month ,aprox.10 ,177yen/day)\\nAfter 6 months: approx. 50% of average salary in the 6 months before the leave (Max 227,850 yen/month, 7,595 yen/day)\\n\\nRegulation / Condition\\n\\nNeed to have 12 month or longer insurance period of employment insurance for 2 years before the start date of the childcare leave.\\nThis benefit is paid \\xa02 months basis basically and it will take 3-4 months until the first payment.\\xa0\\n\\n*For postnatal childcare leave, it will be paid \\xa04-6 month after the end date of the postnatal childcare leave.\\n\\nHow to apply\\n\\nFollow KIT HR's instruction when applying for childcare leave\\n\\n4. Procedure of childbirth section expanded\\n\\n4. Procedure of childbirth\\n\\n1. Childbirth application on PIMS (Mandatory)\\n\\nOverview\\n\\nRegister the child's info into PIMS\\n\\nOccurrence Time/ Frequency\\n\\nAs soon as the child is born\\n\\nProcedure Detail\",\n",
       " 'modified_from_source': False,\n",
       " 'parent_id': '0',\n",
       " 'lang': 'en/'}"
      ]
     },
     "execution_count": 11,
     "metadata": {},
     "output_type": "execute_result"
    }
   ],
   "source": [
    "data[0]"
   ]
  },
  {
   "cell_type": "code",
   "execution_count": 24,
   "id": "5006721f-a091-4507-92b7-cbfcb8124d5f",
   "metadata": {},
   "outputs": [
    {
     "data": {
      "text/plain": [
       "(1017, 37)"
      ]
     },
     "execution_count": 24,
     "metadata": {},
     "output_type": "execute_result"
    }
   ],
   "source": [
    "html_en_tokens = [item['num_tokens'] for item in html_en_data]\n",
    "max(html_en_tokens), min(html_en_tokens)"
   ]
  },
  {
   "cell_type": "code",
   "execution_count": 25,
   "id": "7fea7e31-cbbb-470f-b271-eaaa9e2fa89a",
   "metadata": {},
   "outputs": [
    {
     "data": {
      "text/plain": [
       "(1017, 37)"
      ]
     },
     "execution_count": 25,
     "metadata": {},
     "output_type": "execute_result"
    }
   ],
   "source": [
    "html_jp_tokens = [item['num_tokens'] for item in html_jp_data]\n",
    "max(html_en_tokens), min(html_en_tokens)"
   ]
  },
  {
   "cell_type": "code",
   "execution_count": 26,
   "id": "cb4cfd91-c883-4a3a-8413-8116bff8c465",
   "metadata": {},
   "outputs": [
    {
     "name": "stdout",
     "output_type": "stream",
     "text": [
      "Collecting langdetect\n",
      "  Downloading langdetect-1.0.9.tar.gz (981 kB)\n",
      "\u001b[2K     \u001b[38;2;114;156;31m━━━━━━━━━━━━━━━━━━━━━━━━━━━━━━━━━━━━━\u001b[0m \u001b[32m981.5/981.5 kB\u001b[0m \u001b[31m310.5 kB/s\u001b[0m eta \u001b[36m0:00:00\u001b[0mm eta \u001b[36m0:00:01\u001b[0m[36m0:00:01\u001b[0m\n",
      "\u001b[?25h  Installing build dependencies ... \u001b[?25ldone\n",
      "\u001b[?25h  Getting requirements to build wheel ... \u001b[?25ldone\n",
      "\u001b[?25h  Preparing metadata (pyproject.toml) ... \u001b[?25ldone\n",
      "\u001b[?25hRequirement already satisfied: six in ./kit-chat/lib/python3.11/site-packages (from langdetect) (1.16.0)\n",
      "Building wheels for collected packages: langdetect\n",
      "  Building wheel for langdetect (pyproject.toml) ... \u001b[?25ldone\n",
      "\u001b[?25h  Created wheel for langdetect: filename=langdetect-1.0.9-py3-none-any.whl size=993224 sha256=142b9541d8fec222f421294d710526a685b1782b5245dac9bb59e533115c7823\n",
      "  Stored in directory: /Users/shashanksahoo/Library/Caches/pip/wheels/0a/f2/b2/e5ca405801e05eb7c8ed5b3b4bcf1fcabcd6272c167640072e\n",
      "Successfully built langdetect\n",
      "Installing collected packages: langdetect\n",
      "Successfully installed langdetect-1.0.9\n",
      "\n",
      "\u001b[1m[\u001b[0m\u001b[34;49mnotice\u001b[0m\u001b[1;39;49m]\u001b[0m\u001b[39;49m A new release of pip is available: \u001b[0m\u001b[31;49m23.1.2\u001b[0m\u001b[39;49m -> \u001b[0m\u001b[32;49m23.2.1\u001b[0m\n",
      "\u001b[1m[\u001b[0m\u001b[34;49mnotice\u001b[0m\u001b[1;39;49m]\u001b[0m\u001b[39;49m To update, run: \u001b[0m\u001b[32;49mpip install --upgrade pip\u001b[0m\n"
     ]
    }
   ],
   "source": [
    "!pip install langdetect"
   ]
  },
  {
   "cell_type": "code",
   "execution_count": 27,
   "id": "41a822fe-05aa-4bf8-8177-7d51d4961d74",
   "metadata": {},
   "outputs": [
    {
     "data": {
      "text/plain": [
       "'en'"
      ]
     },
     "execution_count": 27,
     "metadata": {},
     "output_type": "execute_result"
    }
   ],
   "source": [
    "from langdetect import detect\n",
    "detect(\"War doesn't show who's right, just who's left.\")\n"
   ]
  },
  {
   "cell_type": "code",
   "execution_count": 28,
   "id": "d0c13c2b-7c4e-4020-978a-5c6da146fe3b",
   "metadata": {},
   "outputs": [
    {
     "data": {
      "text/plain": [
       "'de'"
      ]
     },
     "execution_count": 28,
     "metadata": {},
     "output_type": "execute_result"
    }
   ],
   "source": [
    "detect(\"Ein, zwei, drei, vier\")"
   ]
  },
  {
   "cell_type": "code",
   "execution_count": 32,
   "id": "5fab3484-4aca-4410-94ee-beb330de5cee",
   "metadata": {},
   "outputs": [
    {
     "data": {
      "text/plain": [
       "'ko'"
      ]
     },
     "execution_count": 32,
     "metadata": {},
     "output_type": "execute_result"
    }
   ],
   "source": [
    "detect(\"勤怠入力\")"
   ]
  },
  {
   "cell_type": "code",
   "execution_count": 33,
   "id": "967b2383-f3e1-418f-bc36-d8f43aa86842",
   "metadata": {},
   "outputs": [
    {
     "name": "stdout",
     "output_type": "stream",
     "text": [
      "Collecting tabula-py\n",
      "  Downloading tabula_py-2.8.2-py3-none-any.whl (12.0 MB)\n",
      "\u001b[2K     \u001b[38;2;114;156;31m━━━━━━━━━━━━━━━━━━━━━━━━━━━━━━━━━━━━━━━━\u001b[0m \u001b[32m12.0/12.0 MB\u001b[0m \u001b[31m4.9 MB/s\u001b[0m eta \u001b[36m0:00:00\u001b[0mm eta \u001b[36m0:00:01\u001b[0m0:01\u001b[0m:01\u001b[0mm\n",
      "\u001b[?25hRequirement already satisfied: pandas>=0.25.3 in ./kit-chat/lib/python3.11/site-packages (from tabula-py) (2.1.0)\n",
      "Requirement already satisfied: numpy in ./kit-chat/lib/python3.11/site-packages (from tabula-py) (1.26.0)\n",
      "Collecting distro (from tabula-py)\n",
      "  Downloading distro-1.8.0-py3-none-any.whl (20 kB)\n",
      "Collecting jpype1 (from tabula-py)\n",
      "  Downloading JPype1-1.4.1-cp311-cp311-macosx_10_9_universal2.whl (590 kB)\n",
      "\u001b[2K     \u001b[38;2;114;156;31m━━━━━━━━━━━━━━━━━━━━━━━━━━━━━━━━━━━━━━━\u001b[0m \u001b[32m590.2/590.2 kB\u001b[0m \u001b[31m5.7 MB/s\u001b[0m eta \u001b[36m0:00:00\u001b[0m[31m7.9 MB/s\u001b[0m eta \u001b[36m0:00:01\u001b[0m\n",
      "\u001b[?25hRequirement already satisfied: python-dateutil>=2.8.2 in ./kit-chat/lib/python3.11/site-packages (from pandas>=0.25.3->tabula-py) (2.8.2)\n",
      "Requirement already satisfied: pytz>=2020.1 in ./kit-chat/lib/python3.11/site-packages (from pandas>=0.25.3->tabula-py) (2023.3.post1)\n",
      "Requirement already satisfied: tzdata>=2022.1 in ./kit-chat/lib/python3.11/site-packages (from pandas>=0.25.3->tabula-py) (2023.3)\n",
      "Requirement already satisfied: packaging in ./kit-chat/lib/python3.11/site-packages (from jpype1->tabula-py) (23.1)\n",
      "Requirement already satisfied: six>=1.5 in ./kit-chat/lib/python3.11/site-packages (from python-dateutil>=2.8.2->pandas>=0.25.3->tabula-py) (1.16.0)\n",
      "Installing collected packages: jpype1, distro, tabula-py\n",
      "Successfully installed distro-1.8.0 jpype1-1.4.1 tabula-py-2.8.2\n",
      "\n",
      "\u001b[1m[\u001b[0m\u001b[34;49mnotice\u001b[0m\u001b[1;39;49m]\u001b[0m\u001b[39;49m A new release of pip is available: \u001b[0m\u001b[31;49m23.1.2\u001b[0m\u001b[39;49m -> \u001b[0m\u001b[32;49m23.2.1\u001b[0m\n",
      "\u001b[1m[\u001b[0m\u001b[34;49mnotice\u001b[0m\u001b[1;39;49m]\u001b[0m\u001b[39;49m To update, run: \u001b[0m\u001b[32;49mpip install --upgrade pip\u001b[0m\n"
     ]
    }
   ],
   "source": [
    "!pip install tabula-py"
   ]
  },
  {
   "cell_type": "code",
   "execution_count": null,
   "id": "7cbe1ecb-b484-4d45-91f1-52b5002c0de2",
   "metadata": {},
   "outputs": [],
   "source": []
  }
 ],
 "metadata": {
  "kernelspec": {
   "display_name": "Python 3 (ipykernel)",
   "language": "python",
   "name": "python3"
  },
  "language_info": {
   "codemirror_mode": {
    "name": "ipython",
    "version": 3
   },
   "file_extension": ".py",
   "mimetype": "text/x-python",
   "name": "python",
   "nbconvert_exporter": "python",
   "pygments_lexer": "ipython3",
   "version": "3.11.4"
  }
 },
 "nbformat": 4,
 "nbformat_minor": 5
}
